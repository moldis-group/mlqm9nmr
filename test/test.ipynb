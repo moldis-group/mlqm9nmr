{
 "cells": [
  {
   "cell_type": "code",
   "execution_count": 1,
   "id": "0285eca7",
   "metadata": {},
   "outputs": [],
   "source": [
    "from mlqm9nmr import calc_nmr\n",
    "from mlqm9nmr import plot_nmr"
   ]
  },
  {
   "cell_type": "code",
   "execution_count": null,
   "id": "00d735ff",
   "metadata": {},
   "outputs": [],
   "source": [
    "filename   = 'test.xyz'     # test file name\n",
    "descriptor = 'abob'         # OPTIONS: acm, acm_rbf, abob, abob_rbf"
   ]
  },
  {
   "cell_type": "code",
   "execution_count": 3,
   "id": "8badcf40",
   "metadata": {},
   "outputs": [
    {
     "name": "stdout",
     "output_type": "stream",
     "text": [
      "C1      25.35 ppm (<p5)\n",
      "C2      53.41 ppm (<p5)\n",
      "C3      54.49 ppm (<p5)\n",
      "C4      67.75 ppm (<p5)\n",
      "C5      33.19 ppm (<p5)\n",
      "C6      32.09 ppm (<p5)\n"
     ]
    }
   ],
   "source": [
    "cs = calc_nmr(filename,descriptor)"
   ]
  },
  {
   "cell_type": "code",
   "execution_count": 4,
   "id": "77e45176",
   "metadata": {},
   "outputs": [
    {
     "data": {
      "image/png": "[encoded data removed]",
      "text/plain": [
       "<Figure size 400x400 with 1 Axes>"
      ]
     },
     "metadata": {},
     "output_type": "display_data"
    }
   ],
   "source": [
    "plot_nmr(cs)"
   ]
  },
  {
   "cell_type": "code",
   "execution_count": null,
   "id": "154b813a",
   "metadata": {},
   "outputs": [],
   "source": []
  }
 ],
 "metadata": {
  "kernelspec": {
   "display_name": "venv",
   "language": "python",
   "name": "python3"
  },
  "language_info": {
   "codemirror_mode": {
    "name": "ipython",
    "version": 3
   },
   "file_extension": ".py",
   "mimetype": "text/x-python",
   "name": "python",
   "nbconvert_exporter": "python",
   "pygments_lexer": "ipython3",
   "version": "3.12.3"
  }
 },
 "nbformat": 4,
 "nbformat_minor": 5
}
