{
 "cells": [
  {
   "cell_type": "code",
   "execution_count": 1,
   "id": "00d735ff",
   "metadata": {},
   "outputs": [
    {
     "name": "stdout",
     "output_type": "stream",
     "text": [
      "C1      74.23 ppm (<p25)\n",
      "C2     144.94 ppm (<p5)\n",
      "C3     130.43 ppm (<p5)\n",
      "C4     132.22 ppm (<p5)\n",
      "C5     129.61 ppm (<p5)\n",
      "C6     132.44 ppm (<p5)\n",
      "C7     135.34 ppm (<p5)\n",
      "C8     146.21 ppm (<p5)\n",
      "C9     128.06 ppm (<p5)\n",
      "C10     130.75 ppm (<p5)\n",
      "C11     133.35 ppm (<p5)\n",
      "C12     134.16 ppm (<p5)\n",
      "C13     131.44 ppm (<p5)\n",
      "C14     172.51 ppm (<p5)\n",
      "C15     156.95 ppm (<p5)\n"
     ]
    },
    {
     "data": {
      "image/png": "[encoded data removed]",
      "text/plain": [
       "<Figure size 600x200 with 1 Axes>"
      ]
     },
     "metadata": {},
     "output_type": "display_data"
    }
   ],
   "source": [
    "from mlqm9nmr import calc_nmr\n",
    "from mlqm9nmr import plot_nmr\n",
    "\n",
    "filename   = 'drug12_07.xyz'\n",
    "descriptor = 'abob_rbf'\n",
    "path       = 'aBoB_RBF_4.dat'\n",
    "\n",
    "cs = calc_nmr(filename,descriptor,di_path=path)\n",
    "plot_nmr(cs)"
   ]
  },
  {
   "cell_type": "code",
   "execution_count": null,
   "id": "154b813a",
   "metadata": {},
   "outputs": [],
   "source": []
  }
 ],
 "metadata": {
  "kernelspec": {
   "display_name": "venv",
   "language": "python",
   "name": "python3"
  },
  "language_info": {
   "codemirror_mode": {
    "name": "ipython",
    "version": 3
   },
   "file_extension": ".py",
   "mimetype": "text/x-python",
   "name": "python",
   "nbconvert_exporter": "python",
   "pygments_lexer": "ipython3",
   "version": "3.12.3"
  }
 },
 "nbformat": 4,
 "nbformat_minor": 5
}
